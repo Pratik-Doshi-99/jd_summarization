{
 "cells": [
  {
   "cell_type": "code",
   "execution_count": 1,
   "metadata": {},
   "outputs": [],
   "source": [
    "import matplotlib.pyplot as plt\n",
    "import pandas as pd\n",
    "import numpy as np"
   ]
  },
  {
   "cell_type": "code",
   "execution_count": 2,
   "metadata": {},
   "outputs": [],
   "source": [
    "raw_txt = None\n",
    "with open('jd_scraping/output.csv','r') as f:\n",
    "    raw_text = f.read()"
   ]
  },
  {
   "cell_type": "code",
   "execution_count": 3,
   "metadata": {},
   "outputs": [],
   "source": [
    "rows = raw_text.split(';')"
   ]
  },
  {
   "cell_type": "code",
   "execution_count": 4,
   "metadata": {},
   "outputs": [],
   "source": [
    "rows = [row.split('|') for row in rows if row != '']"
   ]
  },
  {
   "cell_type": "code",
   "execution_count": 5,
   "metadata": {},
   "outputs": [
    {
     "data": {
      "text/plain": [
       "(5, 5)"
      ]
     },
     "execution_count": 5,
     "metadata": {},
     "output_type": "execute_result"
    }
   ],
   "source": [
    "max([len(r) for r in rows]), min([len(r) for r in rows])"
   ]
  },
  {
   "cell_type": "code",
   "execution_count": 6,
   "metadata": {},
   "outputs": [],
   "source": [
    "headers = rows[0]\n",
    "rows = rows[1:]"
   ]
  },
  {
   "cell_type": "code",
   "execution_count": 7,
   "metadata": {},
   "outputs": [
    {
     "data": {
      "text/plain": [
       "['1',\n",
       " 'Apple',\n",
       " 'Machine Learning Software Engineer',\n",
       " 'Here is the comma-separated list of required skills and experience:\\n\\nbiometrics/face tracking/gaze tracking, modern C++ & Python, algorithm implementation and optimization with platform constraints, computer vision / machine learning product development and delivery, working with sophisticated software stacks, 3 years of professional software development experience.',\n",
       " 'https://jobs.apple.com/en-us/details/200540712/machine-learning-software-engineer']"
      ]
     },
     "execution_count": 7,
     "metadata": {},
     "output_type": "execute_result"
    }
   ],
   "source": [
    "rows[0]"
   ]
  },
  {
   "cell_type": "code",
   "execution_count": 8,
   "metadata": {},
   "outputs": [],
   "source": [
    "data = pd.DataFrame(rows,columns=headers)"
   ]
  },
  {
   "cell_type": "code",
   "execution_count": 9,
   "metadata": {},
   "outputs": [
    {
     "data": {
      "text/html": [
       "<div>\n",
       "<style scoped>\n",
       "    .dataframe tbody tr th:only-of-type {\n",
       "        vertical-align: middle;\n",
       "    }\n",
       "\n",
       "    .dataframe tbody tr th {\n",
       "        vertical-align: top;\n",
       "    }\n",
       "\n",
       "    .dataframe thead th {\n",
       "        text-align: right;\n",
       "    }\n",
       "</style>\n",
       "<table border=\"1\" class=\"dataframe\">\n",
       "  <thead>\n",
       "    <tr style=\"text-align: right;\">\n",
       "      <th></th>\n",
       "      <th>Srno</th>\n",
       "      <th>Company</th>\n",
       "      <th>Role</th>\n",
       "      <th>Description</th>\n",
       "      <th>Link</th>\n",
       "    </tr>\n",
       "  </thead>\n",
       "  <tbody>\n",
       "    <tr>\n",
       "      <th>0</th>\n",
       "      <td>1</td>\n",
       "      <td>Apple</td>\n",
       "      <td>Machine Learning Software Engineer</td>\n",
       "      <td>Here is the comma-separated list of required s...</td>\n",
       "      <td>https://jobs.apple.com/en-us/details/200540712...</td>\n",
       "    </tr>\n",
       "    <tr>\n",
       "      <th>1</th>\n",
       "      <td>2</td>\n",
       "      <td>Apple</td>\n",
       "      <td>Mixed-Signal IP Machine Learning Engineer</td>\n",
       "      <td>Machine learning, Python, C, VLSI fundamentals...</td>\n",
       "      <td>https://jobs.apple.com/en-us/details/200488665...</td>\n",
       "    </tr>\n",
       "    <tr>\n",
       "      <th>2</th>\n",
       "      <td>3</td>\n",
       "      <td>Apple</td>\n",
       "      <td>Senior Machine Learning Software Engineer</td>\n",
       "      <td>Here is the list of required skills and experi...</td>\n",
       "      <td>https://jobs.apple.com/en-us/details/200493299...</td>\n",
       "    </tr>\n",
       "    <tr>\n",
       "      <th>3</th>\n",
       "      <td>4</td>\n",
       "      <td>Apple</td>\n",
       "      <td>Pre-Silicon Machine Learning Compiler Engineer</td>\n",
       "      <td>Here is the list of required skills and experi...</td>\n",
       "      <td>https://jobs.apple.com/en-us/details/200520036...</td>\n",
       "    </tr>\n",
       "    <tr>\n",
       "      <th>4</th>\n",
       "      <td>5</td>\n",
       "      <td>Apple</td>\n",
       "      <td>Pre-Silicon Machine Learning Compiler Engineer</td>\n",
       "      <td>Here is the list of required skills and experi...</td>\n",
       "      <td>https://jobs.apple.com/en-us/details/200520040...</td>\n",
       "    </tr>\n",
       "  </tbody>\n",
       "</table>\n",
       "</div>"
      ],
      "text/plain": [
       "  Srno Company                                            Role  \\\n",
       "0    1   Apple              Machine Learning Software Engineer   \n",
       "1    2   Apple       Mixed-Signal IP Machine Learning Engineer   \n",
       "2    3   Apple       Senior Machine Learning Software Engineer   \n",
       "3    4   Apple  Pre-Silicon Machine Learning Compiler Engineer   \n",
       "4    5   Apple  Pre-Silicon Machine Learning Compiler Engineer   \n",
       "\n",
       "                                         Description  \\\n",
       "0  Here is the comma-separated list of required s...   \n",
       "1  Machine learning, Python, C, VLSI fundamentals...   \n",
       "2  Here is the list of required skills and experi...   \n",
       "3  Here is the list of required skills and experi...   \n",
       "4  Here is the list of required skills and experi...   \n",
       "\n",
       "                                                Link  \n",
       "0  https://jobs.apple.com/en-us/details/200540712...  \n",
       "1  https://jobs.apple.com/en-us/details/200488665...  \n",
       "2  https://jobs.apple.com/en-us/details/200493299...  \n",
       "3  https://jobs.apple.com/en-us/details/200520036...  \n",
       "4  https://jobs.apple.com/en-us/details/200520040...  "
      ]
     },
     "execution_count": 9,
     "metadata": {},
     "output_type": "execute_result"
    }
   ],
   "source": [
    "data.head()"
   ]
  },
  {
   "cell_type": "code",
   "execution_count": 10,
   "metadata": {},
   "outputs": [
    {
     "data": {
      "text/plain": [
       "Role\n",
       "Senior Machine Learning Engineer                                               3\n",
       "Machine Learning Intern                                                        2\n",
       "Research Scientist                                                             2\n",
       "Pre-Silicon Machine Learning Compiler Engineer                                 2\n",
       "Research Engineer                                                              2\n",
       "Mixed-Signal IP Machine Learning Engineer                                      2\n",
       "Research Engineer, Interpretability                                            2\n",
       "Machine Learning GPU Performance Engineer                                      2\n",
       "Product Engineer, Machine Learning and GPU Accelerators                        2\n",
       "Research Engineer, Knowledge Bases                                             2\n",
       "Research Engineer, Human Computer Interfaces                                   2\n",
       "Backend Engineer, Sora                                                         1\n",
       "Distributed Systems/ML Engineer                                                1\n",
       "Distributed Training Engineer, Sora                                            1\n",
       "Machine Learning Software Engineer                                             1\n",
       "DL SW/HW Codesign Engineer                                                     1\n",
       "Engineering Manager, AI Inference Systems                                      1\n",
       "Engineering Manager, GPU Platform                                              1\n",
       "Engineering Manager, Model Scheduler                                           1\n",
       "Engineering Manager - Supercomputing - Storage, Scalability, Scheduling        1\n",
       "GPU Kernels Engineer                                                           1\n",
       "Machine Learning Engineer, Applied AI                                          1\n",
       "Machine Learning Engineer, Retrieval & Search                                  1\n",
       "Engineering Manager, Fine-Tuning API                                           1\n",
       "Machine Learning Systems Engineer, Finetuning Infrastructure                   1\n",
       "Research Engineer, Applied Finetuning                                          1\n",
       "Team Manager, Interpretability                                                 1\n",
       "Resident                                                                       1\n",
       "Resident, London                                                               1\n",
       "Software Engineer                                                              1\n",
       "Software Engineer, Interpretability                                            1\n",
       "Software Engineer, Interpretability, London                                    1\n",
       "Software Engineer, London                                                      1\n",
       "Team Manager, Interpretability (London)                                        1\n",
       "Research Engineer, Collective Alignment                                        1\n",
       "Software Engineer, Claude.AI                                                   1\n",
       "Engineering Manager, Data Platform                                             1\n",
       "Performance Engineer                                                           1\n",
       "Software Engineer, Inference                                                   1\n",
       "Team Manager, LLM Training Research                                            1\n",
       "Data Operations Lead                                                           1\n",
       "Platform ML Engineering Manager, Inference                                     1\n",
       "Research Engineer, Trustworthy AI                                              1\n",
       "Research Engineer, Superalignment                                              1\n",
       "Senior Developer Relationship Manager ï¿½ Physics Informed Machine Learning    1\n",
       "Senior Distributed Systems Engineer, AI Infrastructure                         1\n",
       "Senior Web Software Architect - AI Infrastructure                              1\n",
       "Solutions Architect, Generative AI Specialist                                  1\n",
       "AI Algorithms SW Engineer (RDSS Intern)                                        1\n",
       "Deep Learning Solution Architect                                               1\n",
       "Name: count, dtype: int64"
      ]
     },
     "execution_count": 10,
     "metadata": {},
     "output_type": "execute_result"
    }
   ],
   "source": [
    "data['Role'].value_counts()[:50]"
   ]
  },
  {
   "cell_type": "code",
   "execution_count": null,
   "metadata": {},
   "outputs": [],
   "source": []
  },
  {
   "cell_type": "code",
   "execution_count": 11,
   "metadata": {},
   "outputs": [],
   "source": [
    "import re\n",
    "def get_category(role):\n",
    "    category = 'other'\n",
    "    role = role.lower()\n",
    "    role = re.sub(' ', '', role)\n",
    "    if 'lead' in role or 'leader' in role or 'manager' in role:\n",
    "        category = 'manager'\n",
    "    elif 'engineer' in role or 'architect' in role:\n",
    "        category = 'ml engineer' if 'ml' in role or 'learning' in role or 'research' in role else 'software engineer'\n",
    "    elif 'research' in role or 'scientist' in role or 'science' in role:\n",
    "        category = 'scientist'\n",
    "    \n",
    "    \n",
    "    return category\n"
   ]
  },
  {
   "cell_type": "code",
   "execution_count": 12,
   "metadata": {},
   "outputs": [],
   "source": [
    "data['Category'] = data['Role'].apply(get_category)"
   ]
  },
  {
   "cell_type": "code",
   "execution_count": 13,
   "metadata": {},
   "outputs": [
    {
     "data": {
      "text/html": [
       "<div>\n",
       "<style scoped>\n",
       "    .dataframe tbody tr th:only-of-type {\n",
       "        vertical-align: middle;\n",
       "    }\n",
       "\n",
       "    .dataframe tbody tr th {\n",
       "        vertical-align: top;\n",
       "    }\n",
       "\n",
       "    .dataframe thead th {\n",
       "        text-align: right;\n",
       "    }\n",
       "</style>\n",
       "<table border=\"1\" class=\"dataframe\">\n",
       "  <thead>\n",
       "    <tr style=\"text-align: right;\">\n",
       "      <th></th>\n",
       "      <th>Role</th>\n",
       "      <th>Category</th>\n",
       "    </tr>\n",
       "  </thead>\n",
       "  <tbody>\n",
       "    <tr>\n",
       "      <th>0</th>\n",
       "      <td>Machine Learning Software Engineer</td>\n",
       "      <td>ml engineer</td>\n",
       "    </tr>\n",
       "    <tr>\n",
       "      <th>1</th>\n",
       "      <td>Mixed-Signal IP Machine Learning Engineer</td>\n",
       "      <td>ml engineer</td>\n",
       "    </tr>\n",
       "    <tr>\n",
       "      <th>2</th>\n",
       "      <td>Senior Machine Learning Software Engineer</td>\n",
       "      <td>ml engineer</td>\n",
       "    </tr>\n",
       "    <tr>\n",
       "      <th>3</th>\n",
       "      <td>Pre-Silicon Machine Learning Compiler Engineer</td>\n",
       "      <td>ml engineer</td>\n",
       "    </tr>\n",
       "    <tr>\n",
       "      <th>4</th>\n",
       "      <td>Pre-Silicon Machine Learning Compiler Engineer</td>\n",
       "      <td>ml engineer</td>\n",
       "    </tr>\n",
       "    <tr>\n",
       "      <th>5</th>\n",
       "      <td>Mixed-Signal IP Machine Learning Engineer</td>\n",
       "      <td>ml engineer</td>\n",
       "    </tr>\n",
       "    <tr>\n",
       "      <th>6</th>\n",
       "      <td>Senior Machine Learning Engineer, Health</td>\n",
       "      <td>ml engineer</td>\n",
       "    </tr>\n",
       "    <tr>\n",
       "      <th>7</th>\n",
       "      <td>AIML - Sr Machine Learning Engineer, Data &amp; Ma...</td>\n",
       "      <td>ml engineer</td>\n",
       "    </tr>\n",
       "    <tr>\n",
       "      <th>8</th>\n",
       "      <td>AIML - Machine Learning Engineer or Scientist,...</td>\n",
       "      <td>ml engineer</td>\n",
       "    </tr>\n",
       "    <tr>\n",
       "      <th>9</th>\n",
       "      <td>Computer Vision and Machine Learning Engineer</td>\n",
       "      <td>ml engineer</td>\n",
       "    </tr>\n",
       "    <tr>\n",
       "      <th>10</th>\n",
       "      <td>Machine Learning Applied Scientist</td>\n",
       "      <td>scientist</td>\n",
       "    </tr>\n",
       "    <tr>\n",
       "      <th>11</th>\n",
       "      <td>Senior Machine Learning Software Engineer, Cre...</td>\n",
       "      <td>ml engineer</td>\n",
       "    </tr>\n",
       "    <tr>\n",
       "      <th>12</th>\n",
       "      <td>Senior Machine Learning Engineer - SIML, ISE</td>\n",
       "      <td>ml engineer</td>\n",
       "    </tr>\n",
       "    <tr>\n",
       "      <th>13</th>\n",
       "      <td>Machine Learning Engineer, Applied Machine Lea...</td>\n",
       "      <td>ml engineer</td>\n",
       "    </tr>\n",
       "    <tr>\n",
       "      <th>14</th>\n",
       "      <td>AIML - Sr Engineering Program Manager, Machine...</td>\n",
       "      <td>manager</td>\n",
       "    </tr>\n",
       "    <tr>\n",
       "      <th>15</th>\n",
       "      <td>AIML - Machine Learning Engineer, Siri Informa...</td>\n",
       "      <td>ml engineer</td>\n",
       "    </tr>\n",
       "    <tr>\n",
       "      <th>16</th>\n",
       "      <td>Machine Learning Engineer</td>\n",
       "      <td>ml engineer</td>\n",
       "    </tr>\n",
       "    <tr>\n",
       "      <th>17</th>\n",
       "      <td>Senior Machine Learning Engineer</td>\n",
       "      <td>ml engineer</td>\n",
       "    </tr>\n",
       "    <tr>\n",
       "      <th>18</th>\n",
       "      <td>Senior Machine Learning Engineer</td>\n",
       "      <td>ml engineer</td>\n",
       "    </tr>\n",
       "    <tr>\n",
       "      <th>19</th>\n",
       "      <td>Senior Machine Learning Engineer</td>\n",
       "      <td>ml engineer</td>\n",
       "    </tr>\n",
       "  </tbody>\n",
       "</table>\n",
       "</div>"
      ],
      "text/plain": [
       "                                                 Role     Category\n",
       "0                  Machine Learning Software Engineer  ml engineer\n",
       "1           Mixed-Signal IP Machine Learning Engineer  ml engineer\n",
       "2           Senior Machine Learning Software Engineer  ml engineer\n",
       "3      Pre-Silicon Machine Learning Compiler Engineer  ml engineer\n",
       "4      Pre-Silicon Machine Learning Compiler Engineer  ml engineer\n",
       "5           Mixed-Signal IP Machine Learning Engineer  ml engineer\n",
       "6            Senior Machine Learning Engineer, Health  ml engineer\n",
       "7   AIML - Sr Machine Learning Engineer, Data & Ma...  ml engineer\n",
       "8   AIML - Machine Learning Engineer or Scientist,...  ml engineer\n",
       "9       Computer Vision and Machine Learning Engineer  ml engineer\n",
       "10                 Machine Learning Applied Scientist    scientist\n",
       "11  Senior Machine Learning Software Engineer, Cre...  ml engineer\n",
       "12       Senior Machine Learning Engineer - SIML, ISE  ml engineer\n",
       "13  Machine Learning Engineer, Applied Machine Lea...  ml engineer\n",
       "14  AIML - Sr Engineering Program Manager, Machine...      manager\n",
       "15  AIML - Machine Learning Engineer, Siri Informa...  ml engineer\n",
       "16                          Machine Learning Engineer  ml engineer\n",
       "17                   Senior Machine Learning Engineer  ml engineer\n",
       "18                   Senior Machine Learning Engineer  ml engineer\n",
       "19                   Senior Machine Learning Engineer  ml engineer"
      ]
     },
     "execution_count": 13,
     "metadata": {},
     "output_type": "execute_result"
    }
   ],
   "source": [
    "data[['Role','Category']].iloc[:20,:]"
   ]
  },
  {
   "cell_type": "code",
   "execution_count": 14,
   "metadata": {},
   "outputs": [],
   "source": [
    "#removing stock response of LLM:\n",
    "def remove_stock_response(description):\n",
    "    desc = re.sub('Here is the comma-separated list of required skills and experience:\\n\\n','',description)\n",
    "    desc = re.sub('Here is the list of required skills and experience:\\n\\n','',desc)\n",
    "    desc = re.sub('Here is the list of required skills and experience:\\n\\n','',desc)\n",
    "    desc = re.sub('I apologize*','',desc)\n",
    "    desc = re.sub('\\n','',desc)\n",
    "    return desc\n",
    "\n",
    "data['Description'] = data['Description'].apply(remove_stock_response)"
   ]
  },
  {
   "cell_type": "code",
   "execution_count": 15,
   "metadata": {},
   "outputs": [
    {
     "name": "stderr",
     "output_type": "stream",
     "text": [
      "[nltk_data] Downloading package stopwords to\n",
      "[nltk_data]     C:\\Users\\prati\\AppData\\Roaming\\nltk_data...\n",
      "[nltk_data]   Package stopwords is already up-to-date!\n"
     ]
    }
   ],
   "source": [
    "import nltk\n",
    "from nltk.corpus import stopwords\n",
    " \n",
    "nltk.download('stopwords')\n",
    "stopwords = set(stopwords.words('english'))"
   ]
  },
  {
   "cell_type": "code",
   "execution_count": 16,
   "metadata": {},
   "outputs": [],
   "source": [
    "# Top skills overall\n",
    "def get_skills(description):\n",
    "    all_skills = {}\n",
    "    for d in description:\n",
    "        skills = d.split(',')\n",
    "        for s in skills:\n",
    "            s = s.lower()\n",
    "            if s in all_skills:\n",
    "                all_skills[s] += 1\n",
    "            elif s not in stopwords:\n",
    "                all_skills[s] = 1\n",
    "\n",
    "    all_skills =  [(s,all_skills[s]) for s in all_skills]\n",
    "    all_skills.sort(key = lambda x : x[1], reverse=True)\n",
    "    return all_skills"
   ]
  },
  {
   "cell_type": "code",
   "execution_count": 17,
   "metadata": {},
   "outputs": [],
   "source": [
    "# Top skills overall\n",
    "def get_skills_word(description):\n",
    "    all_skills = {}\n",
    "    for d in description:\n",
    "        skills = re.sub(',',' ',d).lower().split(' ')\n",
    "        for s in skills:\n",
    "            if s in all_skills:\n",
    "                all_skills[s] += 1\n",
    "            elif s not in stopwords and s != '':\n",
    "                all_skills[s] = 1\n",
    "\n",
    "    all_skills =  [(s,all_skills[s]) for s in all_skills]\n",
    "    all_skills.sort(key = lambda x : x[1], reverse=True)\n",
    "    return all_skills"
   ]
  },
  {
   "cell_type": "code",
   "execution_count": 20,
   "metadata": {},
   "outputs": [
    {
     "data": {
      "text/plain": [
       "[(' python', 20),\n",
       " (' machine learning', 20),\n",
       " (' computer engineering', 19),\n",
       " (' pytorch', 15),\n",
       " (' computer science', 14),\n",
       " ('', 14),\n",
       " ('machine learning', 11),\n",
       " (' c++', 11),\n",
       " (' data science', 10),\n",
       " (' tensorflow', 10),\n",
       " (' deep learning', 10),\n",
       " (' communication skills', 10),\n",
       " (' or equivalent practical experience', 10),\n",
       " (\"bachelor's degree in computer science\", 10),\n",
       " (' c/c++', 9),\n",
       " (' java', 9),\n",
       " (' or relevant technical field', 9),\n",
       " (' multimodal neurons', 9),\n",
       " (' scaling laws', 9),\n",
       " (' computer vision', 8),\n",
       " (' relevant technical field', 8),\n",
       " (' circuit-based interpretability', 8),\n",
       " (' ai & compute', 8),\n",
       " (' concrete problems in ai safety', 8),\n",
       " (' reinforcement learning', 7)]"
      ]
     },
     "execution_count": 20,
     "metadata": {},
     "output_type": "execute_result"
    }
   ],
   "source": [
    "all_skills = get_skills(data['Description'])\n",
    "all_skills[:25]"
   ]
  },
  {
   "cell_type": "code",
   "execution_count": 21,
   "metadata": {},
   "outputs": [
    {
     "data": {
      "text/plain": [
       "[('experience', 302),\n",
       " ('learning', 187),\n",
       " ('computer', 139),\n",
       " ('skills', 139),\n",
       " ('machine', 111),\n",
       " ('science', 103),\n",
       " ('job', 83),\n",
       " ('research', 81),\n",
       " ('years', 70),\n",
       " ('ai', 70),\n",
       " ('description', 70),\n",
       " ('python', 61),\n",
       " ('data', 60),\n",
       " ('technical', 60),\n",
       " ('deep', 58),\n",
       " ('required', 55),\n",
       " ('engineering', 52),\n",
       " ('development', 49),\n",
       " ('field', 49),\n",
       " ('related', 48),\n",
       " ('programming', 47),\n",
       " ('degree', 47),\n",
       " ('strong', 47),\n",
       " ('software', 46),\n",
       " ('list', 43)]"
      ]
     },
     "execution_count": 21,
     "metadata": {},
     "output_type": "execute_result"
    }
   ],
   "source": [
    "all_skills = get_skills_word(data['Description'])\n",
    "all_skills[:25]"
   ]
  },
  {
   "cell_type": "code",
   "execution_count": null,
   "metadata": {},
   "outputs": [],
   "source": []
  }
 ],
 "metadata": {
  "kernelspec": {
   "display_name": "Python 3",
   "language": "python",
   "name": "python3"
  },
  "language_info": {
   "codemirror_mode": {
    "name": "ipython",
    "version": 3
   },
   "file_extension": ".py",
   "mimetype": "text/x-python",
   "name": "python",
   "nbconvert_exporter": "python",
   "pygments_lexer": "ipython3",
   "version": "3.8.9"
  }
 },
 "nbformat": 4,
 "nbformat_minor": 2
}
