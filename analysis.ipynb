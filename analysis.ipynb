{
 "cells": [
  {
   "cell_type": "code",
   "execution_count": 61,
   "metadata": {},
   "outputs": [],
   "source": [
    "import matplotlib.pyplot as plt\n",
    "import pandas as pd\n",
    "import numpy as np"
   ]
  },
  {
   "cell_type": "code",
   "execution_count": 62,
   "metadata": {},
   "outputs": [
    {
     "name": "stdout",
     "output_type": "stream",
     "text": [
      "[['Srno', 'Company', 'Role', 'Description', 'Link'], ['1', 'Apple', 'Machine Learning Software Engineer', 'Here is the comma-separated list of required skills and experience:\\n\\nbiometrics/face tracking/gaze tracking, modern C++ & Python, algorithm implementation and optimization with platform constraints, computer vision / machine learning product development and delivery, working with sophisticated software stacks, 3 years of professional software development experience.', 'https://jobs.apple.com/en-us/details/200540712/machine-learning-software-engineer'], ['2', 'Apple', 'Mixed-Signal IP Machine Learning Engineer', 'Machine learning, Python, C, VLSI fundamentals, signal processing, logistic regression, deep neural networks, reinforcement learning, algorithms, data structures, math background, firmware development, system architecture, validation, cross-functional team collaboration.', 'https://jobs.apple.com/en-us/details/200488665/mixed-signal-ip-machine-learning-engineer'], ['3', 'Apple', 'Senior Machine Learning Software Engineer', 'Here is the list of required skills and experience:\\n\\nproblem-solving skills, interpersonal skills, 5+ years of experience in building machine learning and deep learning-based software solutions, hands-on experience with large language models and transformer-based models, experience in Search and Retrieval, Recommendations and Ranking, robust applied software methodology, process, and quality skills, ability to excel in a fast-paced development team, Swift/Objective-C applications for iOS or macOS, optimizing ML and Deep Learning algorithms for embedded systems.', 'https://jobs.apple.com/en-us/details/200493299/senior-machine-learning-software-engineer'], ['4', 'Apple', 'Pre-Silicon Machine Learning Compiler Engineer', 'Here is the list of required skills and experience:\\n\\nSoC acceleration for Artificial Intelligence, SW/HW parallelism, asynchronous processing, embedded systems, real time OS development, low level OS/driver programming, C/C++, software design, problem solving, debugging, Deep Learning workloads, communication, teamwork', 'https://jobs.apple.com/en-us/details/200520036/pre-silicon-machine-learning-compiler-engineer']]\n"
     ]
    }
   ],
   "source": [
    "#extracting the raw file\n",
    "raw_txt = None\n",
    "with open('jd_scraping/output.csv','r') as f:\n",
    "    raw_text = f.read()\n",
    "\n",
    "rows = raw_text.split(';')\n",
    "rows = [row.split('|') for row in rows if row != '']\n",
    "print(rows[:5])"
   ]
  },
  {
   "cell_type": "code",
   "execution_count": 63,
   "metadata": {},
   "outputs": [
    {
     "data": {
      "text/plain": [
       "(5, 5)"
      ]
     },
     "execution_count": 63,
     "metadata": {},
     "output_type": "execute_result"
    }
   ],
   "source": [
    "#validating that all the rows have exactly 5 columns\n",
    "max([len(r) for r in rows]), min([len(r) for r in rows])"
   ]
  },
  {
   "cell_type": "code",
   "execution_count": 64,
   "metadata": {},
   "outputs": [
    {
     "name": "stdout",
     "output_type": "stream",
     "text": [
      "['1', 'Apple', 'Machine Learning Software Engineer', 'Here is the comma-separated list of required skills and experience:\\n\\nbiometrics/face tracking/gaze tracking, modern C++ & Python, algorithm implementation and optimization with platform constraints, computer vision / machine learning product development and delivery, working with sophisticated software stacks, 3 years of professional software development experience.', 'https://jobs.apple.com/en-us/details/200540712/machine-learning-software-engineer']\n",
      "(165, 5)\n"
     ]
    },
    {
     "data": {
      "text/html": [
       "<div>\n",
       "<style scoped>\n",
       "    .dataframe tbody tr th:only-of-type {\n",
       "        vertical-align: middle;\n",
       "    }\n",
       "\n",
       "    .dataframe tbody tr th {\n",
       "        vertical-align: top;\n",
       "    }\n",
       "\n",
       "    .dataframe thead th {\n",
       "        text-align: right;\n",
       "    }\n",
       "</style>\n",
       "<table border=\"1\" class=\"dataframe\">\n",
       "  <thead>\n",
       "    <tr style=\"text-align: right;\">\n",
       "      <th></th>\n",
       "      <th>Srno</th>\n",
       "      <th>Company</th>\n",
       "      <th>Role</th>\n",
       "      <th>Description</th>\n",
       "      <th>Link</th>\n",
       "    </tr>\n",
       "  </thead>\n",
       "  <tbody>\n",
       "    <tr>\n",
       "      <th>0</th>\n",
       "      <td>1</td>\n",
       "      <td>Apple</td>\n",
       "      <td>Machine Learning Software Engineer</td>\n",
       "      <td>Here is the comma-separated list of required s...</td>\n",
       "      <td>https://jobs.apple.com/en-us/details/200540712...</td>\n",
       "    </tr>\n",
       "    <tr>\n",
       "      <th>1</th>\n",
       "      <td>2</td>\n",
       "      <td>Apple</td>\n",
       "      <td>Mixed-Signal IP Machine Learning Engineer</td>\n",
       "      <td>Machine learning, Python, C, VLSI fundamentals...</td>\n",
       "      <td>https://jobs.apple.com/en-us/details/200488665...</td>\n",
       "    </tr>\n",
       "    <tr>\n",
       "      <th>2</th>\n",
       "      <td>3</td>\n",
       "      <td>Apple</td>\n",
       "      <td>Senior Machine Learning Software Engineer</td>\n",
       "      <td>Here is the list of required skills and experi...</td>\n",
       "      <td>https://jobs.apple.com/en-us/details/200493299...</td>\n",
       "    </tr>\n",
       "    <tr>\n",
       "      <th>3</th>\n",
       "      <td>4</td>\n",
       "      <td>Apple</td>\n",
       "      <td>Pre-Silicon Machine Learning Compiler Engineer</td>\n",
       "      <td>Here is the list of required skills and experi...</td>\n",
       "      <td>https://jobs.apple.com/en-us/details/200520036...</td>\n",
       "    </tr>\n",
       "    <tr>\n",
       "      <th>4</th>\n",
       "      <td>5</td>\n",
       "      <td>Apple</td>\n",
       "      <td>Pre-Silicon Machine Learning Compiler Engineer</td>\n",
       "      <td>Here is the list of required skills and experi...</td>\n",
       "      <td>https://jobs.apple.com/en-us/details/200520040...</td>\n",
       "    </tr>\n",
       "  </tbody>\n",
       "</table>\n",
       "</div>"
      ],
      "text/plain": [
       "  Srno Company                                            Role  \\\n",
       "0    1   Apple              Machine Learning Software Engineer   \n",
       "1    2   Apple       Mixed-Signal IP Machine Learning Engineer   \n",
       "2    3   Apple       Senior Machine Learning Software Engineer   \n",
       "3    4   Apple  Pre-Silicon Machine Learning Compiler Engineer   \n",
       "4    5   Apple  Pre-Silicon Machine Learning Compiler Engineer   \n",
       "\n",
       "                                         Description  \\\n",
       "0  Here is the comma-separated list of required s...   \n",
       "1  Machine learning, Python, C, VLSI fundamentals...   \n",
       "2  Here is the list of required skills and experi...   \n",
       "3  Here is the list of required skills and experi...   \n",
       "4  Here is the list of required skills and experi...   \n",
       "\n",
       "                                                Link  \n",
       "0  https://jobs.apple.com/en-us/details/200540712...  \n",
       "1  https://jobs.apple.com/en-us/details/200488665...  \n",
       "2  https://jobs.apple.com/en-us/details/200493299...  \n",
       "3  https://jobs.apple.com/en-us/details/200520036...  \n",
       "4  https://jobs.apple.com/en-us/details/200520040...  "
      ]
     },
     "execution_count": 64,
     "metadata": {},
     "output_type": "execute_result"
    }
   ],
   "source": [
    "headers = rows[0]\n",
    "rows = rows[1:]\n",
    "print(rows[0])\n",
    "data = pd.DataFrame(rows,columns=headers)\n",
    "print(data.shape)\n",
    "data.head()"
   ]
  },
  {
   "cell_type": "code",
   "execution_count": 65,
   "metadata": {},
   "outputs": [
    {
     "data": {
      "text/plain": [
       "Role\n",
       "Senior Machine Learning Engineer                           3\n",
       "Machine Learning Intern                                    2\n",
       "Research Scientist                                         2\n",
       "Pre-Silicon Machine Learning Compiler Engineer             2\n",
       "Research Engineer                                          2\n",
       "Mixed-Signal IP Machine Learning Engineer                  2\n",
       "Research Engineer, Interpretability                        2\n",
       "Machine Learning GPU Performance Engineer                  2\n",
       "Product Engineer, Machine Learning and GPU Accelerators    2\n",
       "Research Engineer, Knowledge Bases                         2\n",
       "Name: count, dtype: int64"
      ]
     },
     "execution_count": 65,
     "metadata": {},
     "output_type": "execute_result"
    }
   ],
   "source": [
    "# Visualiizing the most common roles in the sample\n",
    "data['Role'].value_counts()[:10]"
   ]
  },
  {
   "cell_type": "code",
   "execution_count": 66,
   "metadata": {},
   "outputs": [
    {
     "data": {
      "text/html": [
       "<div>\n",
       "<style scoped>\n",
       "    .dataframe tbody tr th:only-of-type {\n",
       "        vertical-align: middle;\n",
       "    }\n",
       "\n",
       "    .dataframe tbody tr th {\n",
       "        vertical-align: top;\n",
       "    }\n",
       "\n",
       "    .dataframe thead th {\n",
       "        text-align: right;\n",
       "    }\n",
       "</style>\n",
       "<table border=\"1\" class=\"dataframe\">\n",
       "  <thead>\n",
       "    <tr style=\"text-align: right;\">\n",
       "      <th></th>\n",
       "      <th>Srno</th>\n",
       "      <th>Company</th>\n",
       "      <th>Role</th>\n",
       "      <th>Description</th>\n",
       "      <th>Link</th>\n",
       "    </tr>\n",
       "  </thead>\n",
       "  <tbody>\n",
       "    <tr>\n",
       "      <th>0</th>\n",
       "      <td>1</td>\n",
       "      <td>Apple</td>\n",
       "      <td>Machine Learning Software Engineer</td>\n",
       "      <td>Here is the comma-separated list of required s...</td>\n",
       "      <td>https://jobs.apple.com/en-us/details/200540712...</td>\n",
       "    </tr>\n",
       "    <tr>\n",
       "      <th>1</th>\n",
       "      <td>2</td>\n",
       "      <td>Apple</td>\n",
       "      <td>Mixed-Signal IP Machine Learning Engineer</td>\n",
       "      <td>Machine learning, Python, C, VLSI fundamentals...</td>\n",
       "      <td>https://jobs.apple.com/en-us/details/200488665...</td>\n",
       "    </tr>\n",
       "    <tr>\n",
       "      <th>2</th>\n",
       "      <td>3</td>\n",
       "      <td>Apple</td>\n",
       "      <td>Senior Machine Learning Software Engineer</td>\n",
       "      <td>Here is the list of required skills and experi...</td>\n",
       "      <td>https://jobs.apple.com/en-us/details/200493299...</td>\n",
       "    </tr>\n",
       "    <tr>\n",
       "      <th>3</th>\n",
       "      <td>4</td>\n",
       "      <td>Apple</td>\n",
       "      <td>Pre-Silicon Machine Learning Compiler Engineer</td>\n",
       "      <td>Here is the list of required skills and experi...</td>\n",
       "      <td>https://jobs.apple.com/en-us/details/200520036...</td>\n",
       "    </tr>\n",
       "    <tr>\n",
       "      <th>4</th>\n",
       "      <td>5</td>\n",
       "      <td>Apple</td>\n",
       "      <td>Pre-Silicon Machine Learning Compiler Engineer</td>\n",
       "      <td>Here is the list of required skills and experi...</td>\n",
       "      <td>https://jobs.apple.com/en-us/details/200520040...</td>\n",
       "    </tr>\n",
       "  </tbody>\n",
       "</table>\n",
       "</div>"
      ],
      "text/plain": [
       "  Srno Company                                            Role  \\\n",
       "0    1   Apple              Machine Learning Software Engineer   \n",
       "1    2   Apple       Mixed-Signal IP Machine Learning Engineer   \n",
       "2    3   Apple       Senior Machine Learning Software Engineer   \n",
       "3    4   Apple  Pre-Silicon Machine Learning Compiler Engineer   \n",
       "4    5   Apple  Pre-Silicon Machine Learning Compiler Engineer   \n",
       "\n",
       "                                         Description  \\\n",
       "0  Here is the comma-separated list of required s...   \n",
       "1  Machine learning, Python, C, VLSI fundamentals...   \n",
       "2  Here is the list of required skills and experi...   \n",
       "3  Here is the list of required skills and experi...   \n",
       "4  Here is the list of required skills and experi...   \n",
       "\n",
       "                                                Link  \n",
       "0  https://jobs.apple.com/en-us/details/200540712...  \n",
       "1  https://jobs.apple.com/en-us/details/200488665...  \n",
       "2  https://jobs.apple.com/en-us/details/200493299...  \n",
       "3  https://jobs.apple.com/en-us/details/200520036...  \n",
       "4  https://jobs.apple.com/en-us/details/200520040...  "
      ]
     },
     "execution_count": 66,
     "metadata": {},
     "output_type": "execute_result"
    }
   ],
   "source": [
    "data.head()"
   ]
  },
  {
   "cell_type": "code",
   "execution_count": 67,
   "metadata": {},
   "outputs": [
    {
     "data": {
      "text/html": [
       "<div>\n",
       "<style scoped>\n",
       "    .dataframe tbody tr th:only-of-type {\n",
       "        vertical-align: middle;\n",
       "    }\n",
       "\n",
       "    .dataframe tbody tr th {\n",
       "        vertical-align: top;\n",
       "    }\n",
       "\n",
       "    .dataframe thead th {\n",
       "        text-align: right;\n",
       "    }\n",
       "</style>\n",
       "<table border=\"1\" class=\"dataframe\">\n",
       "  <thead>\n",
       "    <tr style=\"text-align: right;\">\n",
       "      <th></th>\n",
       "      <th>Role</th>\n",
       "      <th>Category</th>\n",
       "    </tr>\n",
       "  </thead>\n",
       "  <tbody>\n",
       "    <tr>\n",
       "      <th>0</th>\n",
       "      <td>Machine Learning Software Engineer</td>\n",
       "      <td>ml engineer</td>\n",
       "    </tr>\n",
       "    <tr>\n",
       "      <th>1</th>\n",
       "      <td>Mixed-Signal IP Machine Learning Engineer</td>\n",
       "      <td>ml engineer</td>\n",
       "    </tr>\n",
       "    <tr>\n",
       "      <th>2</th>\n",
       "      <td>Senior Machine Learning Software Engineer</td>\n",
       "      <td>ml engineer</td>\n",
       "    </tr>\n",
       "    <tr>\n",
       "      <th>3</th>\n",
       "      <td>Pre-Silicon Machine Learning Compiler Engineer</td>\n",
       "      <td>ml engineer</td>\n",
       "    </tr>\n",
       "    <tr>\n",
       "      <th>4</th>\n",
       "      <td>Pre-Silicon Machine Learning Compiler Engineer</td>\n",
       "      <td>ml engineer</td>\n",
       "    </tr>\n",
       "    <tr>\n",
       "      <th>5</th>\n",
       "      <td>Mixed-Signal IP Machine Learning Engineer</td>\n",
       "      <td>ml engineer</td>\n",
       "    </tr>\n",
       "    <tr>\n",
       "      <th>6</th>\n",
       "      <td>Senior Machine Learning Engineer, Health</td>\n",
       "      <td>ml engineer</td>\n",
       "    </tr>\n",
       "    <tr>\n",
       "      <th>7</th>\n",
       "      <td>AIML - Sr Machine Learning Engineer, Data &amp; Ma...</td>\n",
       "      <td>ml engineer</td>\n",
       "    </tr>\n",
       "    <tr>\n",
       "      <th>8</th>\n",
       "      <td>AIML - Machine Learning Engineer or Scientist,...</td>\n",
       "      <td>ml engineer</td>\n",
       "    </tr>\n",
       "    <tr>\n",
       "      <th>9</th>\n",
       "      <td>Computer Vision and Machine Learning Engineer</td>\n",
       "      <td>ml engineer</td>\n",
       "    </tr>\n",
       "    <tr>\n",
       "      <th>10</th>\n",
       "      <td>Machine Learning Applied Scientist</td>\n",
       "      <td>scientist</td>\n",
       "    </tr>\n",
       "    <tr>\n",
       "      <th>11</th>\n",
       "      <td>Senior Machine Learning Software Engineer, Cre...</td>\n",
       "      <td>ml engineer</td>\n",
       "    </tr>\n",
       "    <tr>\n",
       "      <th>12</th>\n",
       "      <td>Senior Machine Learning Engineer - SIML, ISE</td>\n",
       "      <td>ml engineer</td>\n",
       "    </tr>\n",
       "    <tr>\n",
       "      <th>13</th>\n",
       "      <td>Machine Learning Engineer, Applied Machine Lea...</td>\n",
       "      <td>ml engineer</td>\n",
       "    </tr>\n",
       "    <tr>\n",
       "      <th>14</th>\n",
       "      <td>AIML - Sr Engineering Program Manager, Machine...</td>\n",
       "      <td>manager</td>\n",
       "    </tr>\n",
       "    <tr>\n",
       "      <th>15</th>\n",
       "      <td>AIML - Machine Learning Engineer, Siri Informa...</td>\n",
       "      <td>ml engineer</td>\n",
       "    </tr>\n",
       "    <tr>\n",
       "      <th>16</th>\n",
       "      <td>Machine Learning Engineer</td>\n",
       "      <td>ml engineer</td>\n",
       "    </tr>\n",
       "    <tr>\n",
       "      <th>17</th>\n",
       "      <td>Senior Machine Learning Engineer</td>\n",
       "      <td>ml engineer</td>\n",
       "    </tr>\n",
       "    <tr>\n",
       "      <th>18</th>\n",
       "      <td>Senior Machine Learning Engineer</td>\n",
       "      <td>ml engineer</td>\n",
       "    </tr>\n",
       "    <tr>\n",
       "      <th>19</th>\n",
       "      <td>Senior Machine Learning Engineer</td>\n",
       "      <td>ml engineer</td>\n",
       "    </tr>\n",
       "  </tbody>\n",
       "</table>\n",
       "</div>"
      ],
      "text/plain": [
       "                                                 Role     Category\n",
       "0                  Machine Learning Software Engineer  ml engineer\n",
       "1           Mixed-Signal IP Machine Learning Engineer  ml engineer\n",
       "2           Senior Machine Learning Software Engineer  ml engineer\n",
       "3      Pre-Silicon Machine Learning Compiler Engineer  ml engineer\n",
       "4      Pre-Silicon Machine Learning Compiler Engineer  ml engineer\n",
       "5           Mixed-Signal IP Machine Learning Engineer  ml engineer\n",
       "6            Senior Machine Learning Engineer, Health  ml engineer\n",
       "7   AIML - Sr Machine Learning Engineer, Data & Ma...  ml engineer\n",
       "8   AIML - Machine Learning Engineer or Scientist,...  ml engineer\n",
       "9       Computer Vision and Machine Learning Engineer  ml engineer\n",
       "10                 Machine Learning Applied Scientist    scientist\n",
       "11  Senior Machine Learning Software Engineer, Cre...  ml engineer\n",
       "12       Senior Machine Learning Engineer - SIML, ISE  ml engineer\n",
       "13  Machine Learning Engineer, Applied Machine Lea...  ml engineer\n",
       "14  AIML - Sr Engineering Program Manager, Machine...      manager\n",
       "15  AIML - Machine Learning Engineer, Siri Informa...  ml engineer\n",
       "16                          Machine Learning Engineer  ml engineer\n",
       "17                   Senior Machine Learning Engineer  ml engineer\n",
       "18                   Senior Machine Learning Engineer  ml engineer\n",
       "19                   Senior Machine Learning Engineer  ml engineer"
      ]
     },
     "execution_count": 67,
     "metadata": {},
     "output_type": "execute_result"
    }
   ],
   "source": [
    "# creating the following job categories: manager, ml engineer, software engineer and scientist using keywords from the job title\n",
    "import re\n",
    "def get_category(role):\n",
    "    category = 'other'\n",
    "    role = role.lower()\n",
    "    role = re.sub(' ', '', role)\n",
    "    if 'lead' in role or 'leader' in role or 'manager' in role:\n",
    "        category = 'manager'\n",
    "    elif 'engineer' in role or 'architect' in role:\n",
    "        category = 'ml engineer' if 'ml' in role or 'learning' in role or 'research' in role else 'software engineer'\n",
    "    elif 'research' in role or 'scientist' in role or 'science' in role:\n",
    "        category = 'scientist'\n",
    "    \n",
    "    \n",
    "    return category\n",
    "\n",
    "data['Category'] = data['Role'].apply(get_category)\n",
    "data[['Role','Category']].iloc[:20,:]\n"
   ]
  },
  {
   "cell_type": "code",
   "execution_count": 68,
   "metadata": {},
   "outputs": [],
   "source": [
    "#removing stock response of LLM:\n",
    "def remove_stock_response(description):\n",
    "    desc = re.sub('Here is the comma-separated list of required skills and experience:\\n\\n','',description)\n",
    "    desc = re.sub('Here is the list of required skills and experience:\\n\\n','',desc)\n",
    "    desc = re.sub('Here is the list of required skills and experience:\\n\\n','',desc)\n",
    "    desc = re.sub('I apologize*','',desc)\n",
    "    desc = re.sub('\\n','',desc)\n",
    "    return desc\n",
    "\n",
    "data['Description'] = data['Description'].apply(remove_stock_response)"
   ]
  },
  {
   "cell_type": "code",
   "execution_count": 69,
   "metadata": {},
   "outputs": [
    {
     "name": "stderr",
     "output_type": "stream",
     "text": [
      "[nltk_data] Downloading package stopwords to\n",
      "[nltk_data]     C:\\Users\\prati\\AppData\\Roaming\\nltk_data...\n",
      "[nltk_data]   Package stopwords is already up-to-date!\n"
     ]
    }
   ],
   "source": [
    "#processing stopwords\n",
    "import nltk\n",
    "from nltk.corpus import stopwords\n",
    " \n",
    "nltk.download('stopwords')\n",
    "stopwords = set(stopwords.words('english'))"
   ]
  },
  {
   "cell_type": "code",
   "execution_count": 70,
   "metadata": {},
   "outputs": [],
   "source": [
    "# to analyze occurance of phrases (skills)\n",
    "\n",
    "# Top skills overall\n",
    "def get_skills(description):\n",
    "    all_skills = {}\n",
    "    for d in description:\n",
    "        skills = d.split(',')\n",
    "        for s in skills:\n",
    "            s = s.strip().lower()\n",
    "            if s == '':\n",
    "                continue\n",
    "            if s in all_skills:\n",
    "                all_skills[s] += 1\n",
    "            elif s not in stopwords:\n",
    "                all_skills[s] = 1\n",
    "\n",
    "    all_skills =  [(s,all_skills[s]) for s in all_skills]\n",
    "    all_skills.sort(key = lambda x : x[1], reverse=True)\n",
    "    return all_skills"
   ]
  },
  {
   "cell_type": "code",
   "execution_count": 71,
   "metadata": {},
   "outputs": [],
   "source": [
    "# to analyze occurance of individual words in the job description\n",
    "\n",
    "# Top skills overall\n",
    "def get_skills_word(description):\n",
    "    all_skills = {}\n",
    "    for d in description:\n",
    "        skills = re.sub(',',' ',d).lower().split(' ')\n",
    "        for s in skills:\n",
    "            if s == '':\n",
    "                continue\n",
    "            if s in all_skills:\n",
    "                all_skills[s] += 1\n",
    "            elif s not in stopwords and s != '':\n",
    "                all_skills[s] = 1\n",
    "\n",
    "    all_skills =  [(s,all_skills[s]) for s in all_skills]\n",
    "    all_skills.sort(key = lambda x : x[1], reverse=True)\n",
    "    return all_skills"
   ]
  },
  {
   "cell_type": "code",
   "execution_count": 72,
   "metadata": {},
   "outputs": [
    {
     "data": {
      "text/plain": [
       "[('machine learning', 31),\n",
       " ('python', 23),\n",
       " ('computer engineering', 19),\n",
       " (\"bachelor's degree in computer science\", 16),\n",
       " ('pytorch', 15)]"
      ]
     },
     "execution_count": 72,
     "metadata": {},
     "output_type": "execute_result"
    }
   ],
   "source": [
    "all_skills = get_skills(data['Description'])\n",
    "all_skills[:5]"
   ]
  },
  {
   "cell_type": "code",
   "execution_count": 73,
   "metadata": {},
   "outputs": [],
   "source": [
    "#OPTIONAL: Save the skills list to disk\n",
    "\n",
    "import pickle\n",
    "all_skills = get_skills(data['Description'])\n",
    "with open('skills.bin', 'wb') as file:\n",
    "    pickle.dump(all_skills, file)\n"
   ]
  },
  {
   "cell_type": "code",
   "execution_count": 74,
   "metadata": {},
   "outputs": [
    {
     "data": {
      "text/plain": [
       "[('experience', 302),\n",
       " ('learning', 187),\n",
       " ('computer', 139),\n",
       " ('skills', 139),\n",
       " ('machine', 111)]"
      ]
     },
     "execution_count": 74,
     "metadata": {},
     "output_type": "execute_result"
    }
   ],
   "source": [
    "all_skills = get_skills_word(data['Description'])\n",
    "all_skills[:5]"
   ]
  },
  {
   "cell_type": "markdown",
   "metadata": {},
   "source": [
    "## Category-wise skills"
   ]
  },
  {
   "cell_type": "code",
   "execution_count": 75,
   "metadata": {},
   "outputs": [
    {
     "data": {
      "text/plain": [
       "[('machine learning', 18),\n",
       " ('pytorch', 14),\n",
       " ('python', 11),\n",
       " ('tensorflow', 8),\n",
       " ('deep learning', 7),\n",
       " ('jax', 6),\n",
       " ('c/c++', 5),\n",
       " ('debugging', 5),\n",
       " ('java', 5),\n",
       " ('communication skills', 5)]"
      ]
     },
     "execution_count": 75,
     "metadata": {},
     "output_type": "execute_result"
    }
   ],
   "source": [
    "all_skills = get_skills(data[data['Category'] == 'ml engineer']['Description'])\n",
    "all_skills[:10]"
   ]
  },
  {
   "cell_type": "code",
   "execution_count": 76,
   "metadata": {},
   "outputs": [
    {
     "data": {
      "text/plain": [
       "[('python', 5),\n",
       " ('machine learning', 4),\n",
       " ('spark', 3),\n",
       " (\"bachelor's degree in computer science\", 2),\n",
       " ('c++', 2),\n",
       " ('computer engineering', 2),\n",
       " ('computer vision', 2),\n",
       " ('deep learning', 2),\n",
       " ('benefits', 2),\n",
       " ('physics', 2)]"
      ]
     },
     "execution_count": 76,
     "metadata": {},
     "output_type": "execute_result"
    }
   ],
   "source": [
    "all_skills = get_skills(data[data['Category'] == 'software engineer']['Description'])\n",
    "all_skills[:10]"
   ]
  },
  {
   "cell_type": "code",
   "execution_count": 77,
   "metadata": {},
   "outputs": [
    {
     "data": {
      "text/plain": [
       "[('computer engineering', 10),\n",
       " (\"bachelor's degree in computer science\", 8),\n",
       " ('or equivalent practical experience', 7),\n",
       " ('machine learning', 6),\n",
       " ('c++', 6),\n",
       " ('python', 5),\n",
       " ('relevant technical field', 5),\n",
       " ('computer science', 4),\n",
       " ('statistics', 4),\n",
       " ('or relevant technical field', 4)]"
      ]
     },
     "execution_count": 77,
     "metadata": {},
     "output_type": "execute_result"
    }
   ],
   "source": [
    "all_skills = get_skills(data[data['Category'] == 'scientist']['Description'])\n",
    "all_skills[:10]"
   ]
  },
  {
   "cell_type": "code",
   "execution_count": 78,
   "metadata": {},
   "outputs": [
    {
     "data": {
      "text/plain": [
       "[('machine learning', 3),\n",
       " ('data science', 3),\n",
       " ('computer science', 3),\n",
       " (\"bachelor's degree or equivalent practical experience\", 2),\n",
       " ('python', 2),\n",
       " ('ai research', 2),\n",
       " ('leadership', 2),\n",
       " ('communication', 2),\n",
       " (\"bachelor's degree in computer science\", 2),\n",
       " ('computer engineering', 2)]"
      ]
     },
     "execution_count": 78,
     "metadata": {},
     "output_type": "execute_result"
    }
   ],
   "source": [
    "all_skills = get_skills(data[data['Category'] == 'manager']['Description'])\n",
    "all_skills[:10]"
   ]
  },
  {
   "cell_type": "markdown",
   "metadata": {},
   "source": [
    "## Category-wise word skills"
   ]
  },
  {
   "cell_type": "code",
   "execution_count": 79,
   "metadata": {},
   "outputs": [
    {
     "data": {
      "text/plain": [
       "[('experience', 129),\n",
       " ('learning', 104),\n",
       " ('machine', 66),\n",
       " ('skills', 64),\n",
       " ('computer', 60),\n",
       " ('science', 43),\n",
       " ('years', 39),\n",
       " ('job', 33),\n",
       " ('python', 31),\n",
       " ('development', 30)]"
      ]
     },
     "execution_count": 79,
     "metadata": {},
     "output_type": "execute_result"
    }
   ],
   "source": [
    "all_skills = get_skills_word(data[data['Category'] == 'ml engineer']['Description'])\n",
    "all_skills[:10]"
   ]
  },
  {
   "cell_type": "code",
   "execution_count": 80,
   "metadata": {},
   "outputs": [
    {
     "data": {
      "text/plain": [
       "[('experience', 48),\n",
       " ('skills', 32),\n",
       " ('job', 24),\n",
       " ('learning', 19),\n",
       " ('description', 19),\n",
       " ('computer', 17),\n",
       " ('science', 15),\n",
       " ('required', 13),\n",
       " ('software', 13),\n",
       " ('years', 11)]"
      ]
     },
     "execution_count": 80,
     "metadata": {},
     "output_type": "execute_result"
    }
   ],
   "source": [
    "all_skills = get_skills_word(data[data['Category'] == 'software engineer']['Description'])\n",
    "all_skills[:10]"
   ]
  },
  {
   "cell_type": "code",
   "execution_count": 81,
   "metadata": {},
   "outputs": [
    {
     "data": {
      "text/plain": [
       "[('experience', 77),\n",
       " ('computer', 47),\n",
       " ('learning', 45),\n",
       " ('science', 30),\n",
       " ('research', 25),\n",
       " ('machine', 24),\n",
       " ('field', 21),\n",
       " ('python', 18),\n",
       " ('skills', 18),\n",
       " ('phd', 17)]"
      ]
     },
     "execution_count": 81,
     "metadata": {},
     "output_type": "execute_result"
    }
   ],
   "source": [
    "all_skills = get_skills_word(data[data['Category'] == 'scientist']['Description'])\n",
    "all_skills[:10]"
   ]
  },
  {
   "cell_type": "code",
   "execution_count": 82,
   "metadata": {},
   "outputs": [
    {
     "data": {
      "text/plain": [
       "[('experience', 43),\n",
       " ('job', 17),\n",
       " ('research', 16),\n",
       " ('technical', 15),\n",
       " ('learning', 14),\n",
       " ('skills', 14),\n",
       " ('ai', 13),\n",
       " ('description', 12),\n",
       " ('machine', 11),\n",
       " ('science', 11)]"
      ]
     },
     "execution_count": 82,
     "metadata": {},
     "output_type": "execute_result"
    }
   ],
   "source": [
    "all_skills = get_skills_word(data[data['Category'] == 'manager']['Description'])\n",
    "all_skills[:10]"
   ]
  }
 ],
 "metadata": {
  "kernelspec": {
   "display_name": "Python 3",
   "language": "python",
   "name": "python3"
  },
  "language_info": {
   "codemirror_mode": {
    "name": "ipython",
    "version": 3
   },
   "file_extension": ".py",
   "mimetype": "text/x-python",
   "name": "python",
   "nbconvert_exporter": "python",
   "pygments_lexer": "ipython3",
   "version": "3.8.9"
  }
 },
 "nbformat": 4,
 "nbformat_minor": 2
}
